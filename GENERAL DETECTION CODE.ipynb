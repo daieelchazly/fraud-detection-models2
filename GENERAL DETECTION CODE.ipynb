{
 "cells": [
  {
   "cell_type": "code",
   "execution_count": 8,
   "id": "80b0db38-814a-4452-b12a-11e832f19f2b",
   "metadata": {},
   "outputs": [
    {
     "name": "stdout",
     "output_type": "stream",
     "text": [
      "              precision    recall  f1-score   support\n",
      "\n",
      "           0       1.00      1.00      1.00        96\n",
      "           1       1.00      1.00      1.00       104\n",
      "\n",
      "    accuracy                           1.00       200\n",
      "   macro avg       1.00      1.00      1.00       200\n",
      "weighted avg       1.00      1.00      1.00       200\n",
      "\n"
     ]
    },
    {
     "data": {
      "text/plain": [
       "['models/fraud_model.pkl']"
      ]
     },
     "execution_count": 8,
     "metadata": {},
     "output_type": "execute_result"
    }
   ],
   "source": [
    "import pandas as pd\n",
    "from sklearn.model_selection import train_test_split\n",
    "from sklearn.ensemble import RandomForestClassifier\n",
    "from sklearn.metrics import classification_report\n",
    "import joblib\n",
    "import os\n",
    "from sklearn.preprocessing import LabelEncoder\n",
    "\n",
    "# Load dataset\n",
    "data = pd.read_csv(r\"C:\\Users\\alsha\\Downloads\\fraud_dataset.csv\")\n",
    "\n",
    "# Encode categorical columns if any\n",
    "categorical_columns = ['location', 'time_of_day']  # Replace with actual categorical columns in your dataset\n",
    "label_encoder = LabelEncoder()\n",
    "\n",
    "# Apply LabelEncoder to each categorical column\n",
    "for col in categorical_columns:\n",
    "    data[col] = label_encoder.fit_transform(data[col])\n",
    "\n",
    "# Separate features and labels\n",
    "X = data.drop(columns=['is_fraud'])\n",
    "y = data['is_fraud']\n",
    "\n",
    "# Train-test split\n",
    "X_train, X_test, y_train, y_test = train_test_split(X, y, test_size=0.2, random_state=42)\n",
    "\n",
    "# Train model\n",
    "model = RandomForestClassifier(n_estimators=100, random_state=42)\n",
    "model.fit(X_train, y_train)\n",
    "\n",
    "# Evaluate model\n",
    "y_pred = model.predict(X_test)\n",
    "print(classification_report(y_test, y_pred))\n",
    "\n",
    "# Ensure the 'models' directory exists\n",
    "if not os.path.exists('models'):\n",
    "    os.makedirs('models')\n",
    "\n",
    "# Save the model\n",
    "joblib.dump(model, 'models/fraud_model.pkl')\n"
   ]
  },
  {
   "cell_type": "code",
   "execution_count": 4,
   "id": "05b1ab42-eeda-4b08-87e1-b30a820361e6",
   "metadata": {
    "scrolled": true
   },
   "outputs": [
    {
     "name": "stdout",
     "output_type": "stream",
     "text": [
      "Index(['transaction_id', 'amount', 'user_age', 'location', 'login_attempts',\n",
      "       'time_of_day', 'is_fraud'],\n",
      "      dtype='object')\n"
     ]
    }
   ],
   "source": [
    "# طباعة أسماء الأعمدة\n",
    "print(data.columns)\n"
   ]
  },
  {
   "cell_type": "code",
   "execution_count": 11,
   "id": "39e39053-e492-4b0d-9387-f9746758e844",
   "metadata": {},
   "outputs": [
    {
     "name": "stdout",
     "output_type": "stream",
     "text": [
      "fraud_prediction\n",
      "0                   2\n",
      "1                   1\n",
      "Name: count, dtype: int64\n"
     ]
    }
   ],
   "source": [
    "import pandas as pd\n",
    "import joblib\n",
    "import os\n",
    "\n",
    "# تأكد من وجود مجلد البيانات\n",
    "os.makedirs('data', exist_ok=True)\n",
    "\n",
    "# إنشاء بيانات جديدة مشابهة لتنسيق البيانات الأصلية (بما في ذلك transaction_id)\n",
    "new_data = pd.DataFrame([\n",
    "    {'transaction_id': 2001, 'amount': 1500, 'user_age': 29, 'location': 0, 'login_attempts': 2, 'time_of_day': 1},\n",
    "    {'transaction_id': 2002, 'amount': 250, 'user_age': 40, 'location': 1, 'login_attempts': 1, 'time_of_day': 0},\n",
    "    {'transaction_id': 2003, 'amount': 9000, 'user_age': 22, 'location': 2, 'login_attempts': 4, 'time_of_day': 2},\n",
    "])\n",
    "\n",
    "# حفظ البيانات إلى ملف CSV\n",
    "new_data.to_csv('data/new_transactions.csv', index=False)\n",
    "\n",
    "# تحميل النموذج\n",
    "model = joblib.load('models/fraud_model.pkl')\n",
    "\n",
    "# تحميل البيانات الجديدة\n",
    "new_data = pd.read_csv('data/new_transactions.csv')\n",
    "\n",
    "# التنبؤ مباشرة (لا تزيل transaction_id)\n",
    "predictions = model.predict(new_data)\n",
    "new_data['fraud_prediction'] = predictions\n",
    "\n",
    "# حفظ النتائج\n",
    "new_data.to_csv('data/predictions.csv', index=False)\n",
    "\n",
    "# عرض عدد التوقعات لكل فئة\n",
    "print(new_data[['fraud_prediction']].value_counts())\n"
   ]
  },
  {
   "cell_type": "code",
   "execution_count": null,
   "id": "ba8d0424-b644-4efc-8da8-dc6aaa69a55c",
   "metadata": {},
   "outputs": [],
   "source": []
  },
  {
   "cell_type": "code",
   "execution_count": null,
   "id": "e6e8dfce-a50e-4b2c-8334-e8b5dfacf56e",
   "metadata": {},
   "outputs": [],
   "source": []
  },
  {
   "cell_type": "code",
   "execution_count": null,
   "id": "5d18e0e3-267b-4ada-9d6d-78bc19531c8a",
   "metadata": {},
   "outputs": [],
   "source": []
  }
 ],
 "metadata": {
  "kernelspec": {
   "display_name": "Python 3 (ipykernel)",
   "language": "python",
   "name": "python3"
  },
  "language_info": {
   "codemirror_mode": {
    "name": "ipython",
    "version": 3
   },
   "file_extension": ".py",
   "mimetype": "text/x-python",
   "name": "python",
   "nbconvert_exporter": "python",
   "pygments_lexer": "ipython3",
   "version": "3.11.7"
  }
 },
 "nbformat": 4,
 "nbformat_minor": 5
}
